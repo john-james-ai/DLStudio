{
 "cells": [
  {
   "cell_type": "markdown",
   "metadata": {},
   "source": [
    "# Model Tuning\n",
    "## Learning Rate\n",
    "The following leverages the learning rate scheduler callback functionality in tensorflow and plots the learning rate, and losses by epoch."
   ]
  },
  {
   "cell_type": "code",
   "execution_count": 11,
   "metadata": {},
   "outputs": [
    {
     "name": "stdout",
     "output_type": "stream",
     "text": [
      "2.4.1\n"
     ]
    }
   ],
   "source": [
    "import tensorflow as tf\n",
    "import numpy as np\n",
    "import pandas as pd\n",
    "import matplotlib.pyplot as plt\n",
    "from sklearn.datasets import make_circles\n",
    "print(tf.__version__)"
   ]
  },
  {
   "cell_type": "markdown",
   "metadata": {},
   "source": [
    "## Data\n",
    "Creating a circular classification problem."
   ]
  },
  {
   "cell_type": "code",
   "execution_count": 2,
   "metadata": {},
   "outputs": [],
   "source": [
    "# Make 1000 examples\n",
    "n_samples = 1000\n",
    "\n",
    "# Create circles\n",
    "X, y = make_circles(n_samples, \n",
    "                    noise=0.03, \n",
    "                    random_state=42)"
   ]
  },
  {
   "cell_type": "code",
   "execution_count": 3,
   "metadata": {},
   "outputs": [
    {
     "data": {
      "text/plain": [
       "((800, 2), (200, 2))"
      ]
     },
     "execution_count": 3,
     "metadata": {},
     "output_type": "execute_result"
    }
   ],
   "source": [
    "# Split data into train and test sets\n",
    "X_train, y_train = X[:800], y[:800] # 80% of the data for the training set\n",
    "X_test, y_test = X[800:], y[800:] # 20% of the data for the test set\n",
    "\n",
    "# Check the shapes of the data\n",
    "X_train.shape, X_test.shape # 800 examples in the training set, 200 examples in the test set "
   ]
  },
  {
   "cell_type": "markdown",
   "metadata": {},
   "source": [
    "## Model"
   ]
  },
  {
   "cell_type": "code",
   "execution_count": 4,
   "metadata": {},
   "outputs": [
    {
     "name": "stderr",
     "output_type": "stream",
     "text": [
      "2022-07-21 12:56:32.440034: I tensorflow/compiler/jit/xla_cpu_device.cc:41] Not creating XLA devices, tf_xla_enable_xla_devices not set\n",
      "2022-07-21 12:56:32.441890: I tensorflow/core/platform/cpu_feature_guard.cc:142] This TensorFlow binary is optimized with oneAPI Deep Neural Network Library (oneDNN) to use the following CPU instructions in performance-critical operations:  SSE4.1 SSE4.2\n",
      "To enable them in other operations, rebuild TensorFlow with the appropriate compiler flags.\n",
      "2022-07-21 12:56:32.449423: I tensorflow/core/common_runtime/process_util.cc:146] Creating new thread pool with default inter op setting: 2. Tune using inter_op_parallelism_threads for best performance.\n",
      "2022-07-21 12:56:32.539161: I tensorflow/compiler/mlir/mlir_graph_optimization_pass.cc:116] None of the MLIR optimization passes are enabled (registered 2)\n",
      "2022-07-21 12:56:32.549055: I tensorflow/core/platform/profile_utils/cpu_utils.cc:112] CPU Frequency: 2659995000 Hz\n"
     ]
    },
    {
     "name": "stdout",
     "output_type": "stream",
     "text": [
      "Epoch 1/100\n",
      "25/25 [==============================] - 1s 19ms/step - loss: 0.6909 - accuracy: 0.5016\n",
      "Epoch 2/100\n",
      "25/25 [==============================] - 1s 23ms/step - loss: 0.6929 - accuracy: 0.5065\n",
      "Epoch 3/100\n",
      "25/25 [==============================] - 1s 25ms/step - loss: 0.6925 - accuracy: 0.5094\n",
      "Epoch 4/100\n",
      "25/25 [==============================] - 0s 13ms/step - loss: 0.6945 - accuracy: 0.4864\n",
      "Epoch 5/100\n",
      "25/25 [==============================] - 0s 10ms/step - loss: 0.6968 - accuracy: 0.4857\n",
      "Epoch 6/100\n",
      "25/25 [==============================] - 0s 11ms/step - loss: 0.6848 - accuracy: 0.5191\n",
      "Epoch 7/100\n",
      "25/25 [==============================] - 0s 19ms/step - loss: 0.6799 - accuracy: 0.5292\n",
      "Epoch 8/100\n",
      "25/25 [==============================] - 1s 22ms/step - loss: 0.6845 - accuracy: 0.5055\n",
      "Epoch 9/100\n",
      "25/25 [==============================] - 0s 11ms/step - loss: 0.6934 - accuracy: 0.4750\n",
      "Epoch 10/100\n",
      "25/25 [==============================] - 0s 14ms/step - loss: 0.6906 - accuracy: 0.4965\n",
      "Epoch 11/100\n",
      "25/25 [==============================] - 0s 14ms/step - loss: 0.6864 - accuracy: 0.5259\n",
      "Epoch 12/100\n",
      "25/25 [==============================] - 0s 15ms/step - loss: 0.6859 - accuracy: 0.5104\n",
      "Epoch 13/100\n",
      "25/25 [==============================] - 0s 14ms/step - loss: 0.6856 - accuracy: 0.5138\n",
      "Epoch 14/100\n",
      "25/25 [==============================] - 0s 19ms/step - loss: 0.6910 - accuracy: 0.4744\n",
      "Epoch 15/100\n",
      "25/25 [==============================] - 0s 16ms/step - loss: 0.6833 - accuracy: 0.5307\n",
      "Epoch 16/100\n",
      "25/25 [==============================] - 0s 17ms/step - loss: 0.6856 - accuracy: 0.5072\n",
      "Epoch 17/100\n",
      "25/25 [==============================] - 0s 14ms/step - loss: 0.6858 - accuracy: 0.4996\n",
      "Epoch 18/100\n",
      "25/25 [==============================] - 0s 12ms/step - loss: 0.6847 - accuracy: 0.5168\n",
      "Epoch 19/100\n",
      "25/25 [==============================] - 0s 13ms/step - loss: 0.6806 - accuracy: 0.5278\n",
      "Epoch 20/100\n",
      "25/25 [==============================] - 0s 13ms/step - loss: 0.6790 - accuracy: 0.5394\n",
      "Epoch 21/100\n",
      "25/25 [==============================] - 0s 7ms/step - loss: 0.6810 - accuracy: 0.5379\n",
      "Epoch 22/100\n",
      "25/25 [==============================] - 0s 16ms/step - loss: 0.6804 - accuracy: 0.5430\n",
      "Epoch 23/100\n",
      "25/25 [==============================] - 0s 19ms/step - loss: 0.6828 - accuracy: 0.5314\n",
      "Epoch 24/100\n",
      "25/25 [==============================] - 1s 21ms/step - loss: 0.6744 - accuracy: 0.5556\n",
      "Epoch 25/100\n",
      "25/25 [==============================] - 0s 4ms/step - loss: 0.6765 - accuracy: 0.5559\n",
      "Epoch 26/100\n",
      "25/25 [==============================] - 0s 11ms/step - loss: 0.6818 - accuracy: 0.5207\n",
      "Epoch 27/100\n",
      "25/25 [==============================] - 0s 20ms/step - loss: 0.6721 - accuracy: 0.5742\n",
      "Epoch 28/100\n",
      "25/25 [==============================] - 1s 22ms/step - loss: 0.6762 - accuracy: 0.5452\n",
      "Epoch 29/100\n",
      "25/25 [==============================] - 1s 22ms/step - loss: 0.6764 - accuracy: 0.5424\n",
      "Epoch 30/100\n",
      "25/25 [==============================] - 1s 21ms/step - loss: 0.6744 - accuracy: 0.5542\n",
      "Epoch 31/100\n",
      "25/25 [==============================] - 0s 11ms/step - loss: 0.6772 - accuracy: 0.5404\n",
      "Epoch 32/100\n",
      "25/25 [==============================] - 0s 14ms/step - loss: 0.6696 - accuracy: 0.5664\n",
      "Epoch 33/100\n",
      "25/25 [==============================] - 0s 13ms/step - loss: 0.6705 - accuracy: 0.5502\n",
      "Epoch 34/100\n",
      "25/25 [==============================] - 1s 24ms/step - loss: 0.6657 - accuracy: 0.5524\n",
      "Epoch 35/100\n",
      "25/25 [==============================] - 0s 13ms/step - loss: 0.6695 - accuracy: 0.5621\n",
      "Epoch 36/100\n",
      "25/25 [==============================] - 0s 13ms/step - loss: 0.6652 - accuracy: 0.5660\n",
      "Epoch 37/100\n",
      "25/25 [==============================] - 0s 10ms/step - loss: 0.6552 - accuracy: 0.5703\n",
      "Epoch 38/100\n",
      "25/25 [==============================] - 0s 16ms/step - loss: 0.6531 - accuracy: 0.5819\n",
      "Epoch 39/100\n",
      "25/25 [==============================] - 0s 20ms/step - loss: 0.6485 - accuracy: 0.6921\n",
      "Epoch 40/100\n",
      "25/25 [==============================] - 0s 18ms/step - loss: 0.6142 - accuracy: 0.7194\n",
      "Epoch 41/100\n",
      "25/25 [==============================] - 0s 18ms/step - loss: 0.5983 - accuracy: 0.7564\n",
      "Epoch 42/100\n",
      "25/25 [==============================] - 0s 12ms/step - loss: 0.5866 - accuracy: 0.7109\n",
      "Epoch 43/100\n",
      "25/25 [==============================] - 0s 13ms/step - loss: 0.5444 - accuracy: 0.7511\n",
      "Epoch 44/100\n",
      "25/25 [==============================] - 0s 6ms/step - loss: 0.4765 - accuracy: 0.7952\n",
      "Epoch 45/100\n",
      "25/25 [==============================] - 0s 10ms/step - loss: 0.3716 - accuracy: 0.8875\n",
      "Epoch 46/100\n",
      "25/25 [==============================] - 0s 6ms/step - loss: 0.2789 - accuracy: 0.9369\n",
      "Epoch 47/100\n",
      "25/25 [==============================] - 0s 10ms/step - loss: 0.2261 - accuracy: 0.9392\n",
      "Epoch 48/100\n",
      "25/25 [==============================] - 0s 13ms/step - loss: 0.1354 - accuracy: 0.9691\n",
      "Epoch 49/100\n",
      "25/25 [==============================] - 0s 13ms/step - loss: 0.1294 - accuracy: 0.9682\n",
      "Epoch 50/100\n",
      "25/25 [==============================] - 0s 19ms/step - loss: 0.1028 - accuracy: 0.9710\n",
      "Epoch 51/100\n",
      "25/25 [==============================] - 0s 17ms/step - loss: 0.1123 - accuracy: 0.9665\n",
      "Epoch 52/100\n",
      "25/25 [==============================] - 0s 15ms/step - loss: 0.1396 - accuracy: 0.9507\n",
      "Epoch 53/100\n",
      "25/25 [==============================] - 0s 4ms/step - loss: 0.0664 - accuracy: 0.9919\n",
      "Epoch 54/100\n",
      "25/25 [==============================] - 0s 7ms/step - loss: 0.0996 - accuracy: 0.9652\n",
      "Epoch 55/100\n",
      "25/25 [==============================] - 0s 13ms/step - loss: 0.0749 - accuracy: 0.9637\n",
      "Epoch 56/100\n",
      "25/25 [==============================] - 0s 14ms/step - loss: 0.0925 - accuracy: 0.9599\n",
      "Epoch 57/100\n",
      "25/25 [==============================] - 0s 12ms/step - loss: 0.0959 - accuracy: 0.9559\n",
      "Epoch 58/100\n",
      "25/25 [==============================] - 0s 12ms/step - loss: 0.0589 - accuracy: 0.9791\n",
      "Epoch 59/100\n",
      "25/25 [==============================] - 0s 19ms/step - loss: 0.1292 - accuracy: 0.9435\n",
      "Epoch 60/100\n",
      "25/25 [==============================] - 0s 13ms/step - loss: 0.1038 - accuracy: 0.9645\n",
      "Epoch 61/100\n",
      "25/25 [==============================] - 0s 13ms/step - loss: 0.1040 - accuracy: 0.9572\n",
      "Epoch 62/100\n",
      "25/25 [==============================] - 0s 16ms/step - loss: 0.1269 - accuracy: 0.9559\n",
      "Epoch 63/100\n",
      "25/25 [==============================] - 0s 11ms/step - loss: 0.1874 - accuracy: 0.9294\n",
      "Epoch 64/100\n",
      "25/25 [==============================] - 0s 8ms/step - loss: 0.3337 - accuracy: 0.8710\n",
      "Epoch 65/100\n",
      "25/25 [==============================] - 0s 2ms/step - loss: 0.2147 - accuracy: 0.9046\n",
      "Epoch 66/100\n",
      "25/25 [==============================] - 0s 10ms/step - loss: 0.1746 - accuracy: 0.9350\n",
      "Epoch 67/100\n",
      "25/25 [==============================] - 0s 9ms/step - loss: 0.1776 - accuracy: 0.9367\n",
      "Epoch 68/100\n",
      "25/25 [==============================] - 1s 22ms/step - loss: 0.1967 - accuracy: 0.9305\n",
      "Epoch 69/100\n",
      "25/25 [==============================] - 0s 12ms/step - loss: 0.1090 - accuracy: 0.9597\n",
      "Epoch 70/100\n",
      "25/25 [==============================] - 0s 2ms/step - loss: 0.2666 - accuracy: 0.9024\n",
      "Epoch 71/100\n",
      "25/25 [==============================] - 0s 4ms/step - loss: 0.2657 - accuracy: 0.8961\n",
      "Epoch 72/100\n",
      "25/25 [==============================] - 0s 12ms/step - loss: 0.3196 - accuracy: 0.8802\n",
      "Epoch 73/100\n",
      "25/25 [==============================] - 0s 16ms/step - loss: 0.2465 - accuracy: 0.9120\n",
      "Epoch 74/100\n",
      "25/25 [==============================] - 0s 13ms/step - loss: 0.1532 - accuracy: 0.9332\n",
      "Epoch 75/100\n",
      "25/25 [==============================] - 0s 11ms/step - loss: 0.2780 - accuracy: 0.8970\n",
      "Epoch 76/100\n",
      "25/25 [==============================] - 0s 13ms/step - loss: 0.4079 - accuracy: 0.8133\n",
      "Epoch 77/100\n",
      "25/25 [==============================] - 0s 16ms/step - loss: 0.1639 - accuracy: 0.9313\n",
      "Epoch 78/100\n",
      "25/25 [==============================] - 0s 8ms/step - loss: 0.1135 - accuracy: 0.9560\n",
      "Epoch 79/100\n",
      "25/25 [==============================] - 1s 18ms/step - loss: 0.4699 - accuracy: 0.8329\n",
      "Epoch 80/100\n",
      "25/25 [==============================] - 0s 12ms/step - loss: 0.7584 - accuracy: 0.6446\n",
      "Epoch 81/100\n",
      "25/25 [==============================] - 0s 12ms/step - loss: 0.6163 - accuracy: 0.5592\n",
      "Epoch 82/100\n",
      "25/25 [==============================] - 0s 15ms/step - loss: 0.7121 - accuracy: 0.5735\n",
      "Epoch 83/100\n",
      "25/25 [==============================] - 0s 12ms/step - loss: 0.7608 - accuracy: 0.4727\n",
      "Epoch 84/100\n",
      "25/25 [==============================] - 0s 15ms/step - loss: 0.7148 - accuracy: 0.4891\n",
      "Epoch 85/100\n",
      "25/25 [==============================] - 0s 14ms/step - loss: 0.7144 - accuracy: 0.5162\n",
      "Epoch 86/100\n",
      "25/25 [==============================] - 0s 15ms/step - loss: 0.7383 - accuracy: 0.5060\n",
      "Epoch 87/100\n",
      "25/25 [==============================] - 0s 12ms/step - loss: 0.7944 - accuracy: 0.5157\n",
      "Epoch 88/100\n",
      "25/25 [==============================] - 0s 16ms/step - loss: 0.7534 - accuracy: 0.5048\n",
      "Epoch 89/100\n",
      "25/25 [==============================] - 0s 3ms/step - loss: 0.7836 - accuracy: 0.5187\n",
      "Epoch 90/100\n",
      "25/25 [==============================] - 0s 12ms/step - loss: 0.7372 - accuracy: 0.5122\n",
      "Epoch 91/100\n",
      "25/25 [==============================] - 0s 5ms/step - loss: 0.8215 - accuracy: 0.5031\n",
      "Epoch 92/100\n",
      "25/25 [==============================] - 0s 9ms/step - loss: 0.7313 - accuracy: 0.4932\n",
      "Epoch 93/100\n",
      "25/25 [==============================] - 0s 12ms/step - loss: 0.7312 - accuracy: 0.4984\n",
      "Epoch 94/100\n",
      "25/25 [==============================] - 0s 13ms/step - loss: 0.7787 - accuracy: 0.4681\n",
      "Epoch 95/100\n",
      "25/25 [==============================] - 1s 22ms/step - loss: 0.8797 - accuracy: 0.4600\n",
      "Epoch 96/100\n",
      "25/25 [==============================] - 1s 27ms/step - loss: 0.8251 - accuracy: 0.4611\n",
      "Epoch 97/100\n",
      "25/25 [==============================] - 1s 22ms/step - loss: 0.7656 - accuracy: 0.4644\n",
      "Epoch 98/100\n",
      "25/25 [==============================] - 1s 21ms/step - loss: 0.9186 - accuracy: 0.4847\n",
      "Epoch 99/100\n",
      "25/25 [==============================] - 1s 32ms/step - loss: 0.9813 - accuracy: 0.4745\n",
      "Epoch 100/100\n",
      "25/25 [==============================] - 1s 24ms/step - loss: 0.8417 - accuracy: 0.4538\n"
     ]
    }
   ],
   "source": [
    "# Set random seed\n",
    "tf.random.set_seed(42)\n",
    "\n",
    "# Create a model (same as model_8)\n",
    "model_9 = tf.keras.Sequential([\n",
    "  tf.keras.layers.Dense(4, activation=\"relu\"),\n",
    "  tf.keras.layers.Dense(4, activation=\"relu\"),\n",
    "  tf.keras.layers.Dense(1, activation=\"sigmoid\")\n",
    "])\n",
    "\n",
    "# Compile the model\n",
    "model_9.compile(loss=\"binary_crossentropy\", # we can use strings here too\n",
    "              optimizer=\"Adam\", # same as tf.keras.optimizers.Adam() with default settings\n",
    "              metrics=[\"accuracy\"]) \n",
    "\n",
    "# Create a learning rate scheduler callback\n",
    "lr_scheduler = tf.keras.callbacks.LearningRateScheduler(lambda epoch: 1e-4 * 10**(epoch/20)) # traverse a set of learning rate values starting from 1e-4, increasing by 10**(epoch/20) every epoch\n",
    "\n",
    "# Fit the model (passing the lr_scheduler callback)\n",
    "history = model_9.fit(X_train, \n",
    "                      y_train, \n",
    "                      epochs=100,\n",
    "                      callbacks=[lr_scheduler])"
   ]
  },
  {
   "cell_type": "markdown",
   "metadata": {},
   "source": [
    "## Visualization"
   ]
  },
  {
   "cell_type": "code",
   "execution_count": 7,
   "metadata": {},
   "outputs": [
    {
     "data": {
      "image/png": "[encoded data removed]",
      "text/plain": [
       "<Figure size 720x504 with 1 Axes>"
      ]
     },
     "metadata": {
      "needs_background": "light"
     },
     "output_type": "display_data"
    }
   ],
   "source": [
    "# Checkout the history\n",
    "pd.DataFrame(history.history).plot(figsize=(10,7), xlabel=\"epochs\");"
   ]
  },
  {
   "cell_type": "code",
   "execution_count": 12,
   "metadata": {},
   "outputs": [
    {
     "data": {
      "image/png": "[encoded data removed]",
      "text/plain": [
       "<Figure size 720x504 with 1 Axes>"
      ]
     },
     "metadata": {
      "needs_background": "light"
     },
     "output_type": "display_data"
    }
   ],
   "source": [
    "# Plot the learning rate versus the loss\n",
    "lrs = 1e-4 * (10 ** (np.arange(100)/20))\n",
    "plt.figure(figsize=(10, 7))\n",
    "plt.semilogx(lrs, history.history[\"loss\"]) # we want the x-axis (learning rate) to be log scale\n",
    "plt.xlabel(\"Learning Rate\")\n",
    "plt.ylabel(\"Loss\")\n",
    "plt.title(\"Learning rate vs. loss\");"
   ]
  },
  {
   "cell_type": "markdown",
   "metadata": {},
   "source": [
    "The lowest point seems to be about 0.02. Let's update the model."
   ]
  },
  {
   "cell_type": "code",
   "execution_count": 13,
   "metadata": {},
   "outputs": [
    {
     "name": "stdout",
     "output_type": "stream",
     "text": [
      "Epoch 1/20\n",
      "25/25 [==============================] - 1s 16ms/step - loss: 0.6834 - accuracy: 0.5400\n",
      "Epoch 2/20\n",
      "25/25 [==============================] - 0s 15ms/step - loss: 0.6778 - accuracy: 0.5511\n",
      "Epoch 3/20\n",
      "25/25 [==============================] - 0s 17ms/step - loss: 0.6638 - accuracy: 0.5568\n",
      "Epoch 4/20\n",
      "25/25 [==============================] - 0s 14ms/step - loss: 0.6416 - accuracy: 0.6380\n",
      "Epoch 5/20\n",
      "25/25 [==============================] - 0s 14ms/step - loss: 0.5957 - accuracy: 0.7609\n",
      "Epoch 6/20\n",
      "25/25 [==============================] - 0s 11ms/step - loss: 0.5134 - accuracy: 0.8213\n",
      "Epoch 7/20\n",
      "25/25 [==============================] - 0s 8ms/step - loss: 0.4595 - accuracy: 0.8078\n",
      "Epoch 8/20\n",
      "25/25 [==============================] - 0s 16ms/step - loss: 0.3685 - accuracy: 0.8941\n",
      "Epoch 9/20\n",
      "25/25 [==============================] - 0s 12ms/step - loss: 0.3248 - accuracy: 0.9016\n",
      "Epoch 10/20\n",
      "25/25 [==============================] - 1s 18ms/step - loss: 0.2665 - accuracy: 0.9386\n",
      "Epoch 11/20\n",
      "25/25 [==============================] - 0s 19ms/step - loss: 0.2211 - accuracy: 0.9536\n",
      "Epoch 12/20\n",
      "25/25 [==============================] - 0s 13ms/step - loss: 0.1679 - accuracy: 0.9799\n",
      "Epoch 13/20\n",
      "25/25 [==============================] - 0s 13ms/step - loss: 0.1479 - accuracy: 0.9869\n",
      "Epoch 14/20\n",
      "25/25 [==============================] - 0s 18ms/step - loss: 0.1435 - accuracy: 0.9790\n",
      "Epoch 15/20\n",
      "25/25 [==============================] - 0s 15ms/step - loss: 0.1123 - accuracy: 0.9895\n",
      "Epoch 16/20\n",
      "25/25 [==============================] - 0s 17ms/step - loss: 0.1022 - accuracy: 0.9964\n",
      "Epoch 17/20\n",
      "25/25 [==============================] - 0s 12ms/step - loss: 0.0805 - accuracy: 0.9975\n",
      "Epoch 18/20\n",
      "25/25 [==============================] - 0s 16ms/step - loss: 0.0816 - accuracy: 0.9977\n",
      "Epoch 19/20\n",
      "25/25 [==============================] - 0s 16ms/step - loss: 0.0789 - accuracy: 0.9922\n",
      "Epoch 20/20\n",
      "25/25 [==============================] - 0s 18ms/step - loss: 0.0878 - accuracy: 0.9824\n"
     ]
    }
   ],
   "source": [
    "# Set the random seed\n",
    "tf.random.set_seed(42)\n",
    "\n",
    "# Create the model\n",
    "model_10 = tf.keras.Sequential([\n",
    "  tf.keras.layers.Dense(4, activation=\"relu\"),\n",
    "  tf.keras.layers.Dense(4, activation=\"relu\"),\n",
    "  tf.keras.layers.Dense(1, activation=\"sigmoid\")\n",
    "])\n",
    "\n",
    "# Compile the model with the ideal learning rate\n",
    "model_10.compile(loss=\"binary_crossentropy\",\n",
    "                optimizer=tf.keras.optimizers.Adam(lr=0.02), # to adjust the learning rate, you need to use tf.keras.optimizers.Adam (not \"adam\")\n",
    "                metrics=[\"accuracy\"])\n",
    "\n",
    "# Fit the model for 20 epochs (5 less than before)\n",
    "history = model_10.fit(X_train, y_train, epochs=20)"
   ]
  },
  {
   "cell_type": "code",
   "execution_count": 14,
   "metadata": {},
   "outputs": [
    {
     "name": "stdout",
     "output_type": "stream",
     "text": [
      "7/7 [==============================] - 0s 13ms/step - loss: 0.0574 - accuracy: 0.9900\n"
     ]
    },
    {
     "data": {
      "text/plain": [
       "[0.057401880621910095, 0.9900000095367432]"
      ]
     },
     "execution_count": 14,
     "metadata": {},
     "output_type": "execute_result"
    }
   ],
   "source": [
    "# Evaluate model on the test dataset\n",
    "model_10.evaluate(X_test, y_test)"
   ]
  },
  {
   "cell_type": "markdown",
   "metadata": {},
   "source": [
    "Boom!"
   ]
  }
 ],
 "metadata": {
  "kernelspec": {
   "display_name": "Python 3.9.12 ('dlstudio')",
   "language": "python",
   "name": "python3"
  },
  "language_info": {
   "codemirror_mode": {
    "name": "ipython",
    "version": 3
   },
   "file_extension": ".py",
   "mimetype": "text/x-python",
   "name": "python",
   "nbconvert_exporter": "python",
   "pygments_lexer": "ipython3",
   "version": "3.9.12"
  },
  "orig_nbformat": 4,
  "vscode": {
   "interpreter": {
    "hash": "a67248495e4b17037d69cbe54d73e2dd64e58f26d2f5dbee5ea70df12b18d8aa"
   }
  }
 },
 "nbformat": 4,
 "nbformat_minor": 2
}
